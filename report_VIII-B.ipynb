{
  "nbformat": 4,
  "nbformat_minor": 0,
  "metadata": {
    "colab": {
      "provenance": []
    },
    "kernelspec": {
      "name": "python3",
      "display_name": "Python 3"
    }
  },
  "cells": [
    {
      "cell_type": "markdown",
      "metadata": {
        "id": "jaeqy3WhYbK3"
      },
      "source": [
        "# 数値解析2020 レポート\n",
        "\n",
        "**VIII-A.** \n",
        "(1) $m$ 個 $(m>2)$ のデータ点 $(x_i, y_i)$ $(1\\le i\\le m)$ に対し最小2乗法を用いて多項式 $p_1(x)=a_0 + a_1 x$ を当てはめる場合の正規方程式を導出せよ。また求めた正規方程式は\n",
        "\n",
        "\\begin{equation*}\n",
        "    X \\equiv \\begin{bmatrix}\n",
        "    1 & x_1\\\\\n",
        "    1 & x_2\\\\\n",
        "    \\vdots & \\vdots\\\\\n",
        "    1 & x_m\\\\\n",
        "    \\end{bmatrix}, \\mathbf{a}\\equiv \\begin{bmatrix}\n",
        "        a_0\\\\a_1\n",
        "    \\end{bmatrix}, \n",
        "    \\mathbf{y}\\equiv \\begin{bmatrix}\n",
        "        y_0\\\\y_1\\\\ \\vdots \\\\y_m\n",
        "        \\end{bmatrix}\n",
        "\\end{equation*}\n",
        "\n",
        "を用いて $(X^\\mathsf{T}X) \\mathbf{a} = X^\\mathsf{T} \\mathbf{y}$と表せる事を示せ\n",
        "\n",
        "(2) 問1で求めた正規方程式を $\\mathbf{a}$ について解く事で $a_0$ を $s_x^2$, $s_{xy}$ を用いて、$a_1$ を $a_0, \\bar{x},\\bar{y}$ を用いて表せ。\n",
        "ここで $s_x^2$ は $x_i$ の分散、$s_{xy}$ は $x_i$ と $y_i$ の共分散、 $\\bar{x}$ は $x_i$ の平均値、$\\bar{y}$ は $y_i$ の平均値を表す。\n",
        "\n",
        "(3) 問2で求めた式を用いて以下の表にある8つのデータ点 $(0.0, 10.0)$, $(1.0, 21.0)$, $(3.00, 66.0)$, $(4.00, 97.0)$, $(5.00, 118)$ の残差の2乗和を最小化する $p_1(x)$ を求めよ。\n",
        "\n",
        "$\\mathbf{x} = [0, 1, 1, 2, 2, 3, 5, 6]$\n",
        "\n",
        "$\\mathbf{y} = [10, 21, 23, 49, 52, 65,  95, 121]$\n"
      ]
    },
    {
      "cell_type": "markdown",
      "metadata": {
        "id": "KrH6y1VUVSnc"
      },
      "source": [
        "#"
      ]
    },
    {
      "cell_type": "markdown",
      "metadata": {
        "id": "wyVc8CKav1ID"
      },
      "source": [
        "**VIII-B.** (1) VIII-A の問3にある8つのデータ点を最小2乗法を用いて3次多項式 $p_3(x)$ を当てはめる問題を考える。正規方程式をLU分解で解くプログラムを作成し $p_3(x)$ の係数を有効数字4桁で5桁目を四捨五入して求めよ。\n",
        "作成したプログラムも提出すること。プログラミング言語は問わない。\n",
        "\n",
        "(2) 問1の正規方程式をハウスホルダー法を用いてQR分解してから解くプログラムを作成し $p_3(x)$ の係数を有効数字4桁で5桁目を四捨五入して求めよ。\n",
        "作成したプログラムも提出すること。プログラミング言語は問わない。"
      ]
    },
    {
      "cell_type": "markdown",
      "metadata": {
        "id": "6oMty-RaogOy"
      },
      "source": [
        "以下Python3を用いたプログラム例を示す。"
      ]
    },
    {
      "cell_type": "code",
      "metadata": {
        "id": "mMdicca6YOfm",
        "colab": {
          "base_uri": "https://localhost:8080/"
        },
        "outputId": "78cea6ad-f679-4ffe-de4b-e4414ff20475"
      },
      "source": [
        "# Pythonのバージョン確認\n",
        "import sys\n",
        "print(sys.version)"
      ],
      "execution_count": null,
      "outputs": [
        {
          "output_type": "stream",
          "text": [
            "3.6.9 (default, Oct  8 2020, 12:12:24) \n",
            "[GCC 8.4.0]\n"
          ],
          "name": "stdout"
        }
      ]
    },
    {
      "cell_type": "markdown",
      "metadata": {
        "id": "ktwZETqM-sR_"
      },
      "source": [
        "# 解答コード LU分解"
      ]
    },
    {
      "cell_type": "code",
      "metadata": {
        "colab": {
          "base_uri": "https://localhost:8080/"
        },
        "id": "AdtSJsPx3cvW",
        "outputId": "20a75f39-95b1-4799-e804-7ff29ddc1fa0"
      },
      "source": [
        "import numpy as np\n",
        "\n",
        "a = np.array([0, 1, 1, 2, 2, 3, 5, 6])\n",
        "b = np.array([1, 2, 3, 15, 15, 33,  75, 146])\n",
        "\n",
        "m = len(a)\n",
        "\n",
        "#XT =np.array([np.ones(m), a])\n",
        "#XT =np.array([np.ones(m), a, a**2])\n",
        "XT =np.array([np.ones(m), a, a**2, a**3])\n",
        "\n",
        "b = np.dot(XT, b)\n",
        "\n",
        "n = len(XT)\n",
        "\n",
        "print(\"m\", m, \"n\", n)\n",
        "\n",
        "print(XT)\n",
        "\n",
        "A = np.dot(XT, np.transpose(XT))\n",
        "L = np.identity(n, dtype=float)\n",
        "M = np.zeros((n, n))\n",
        "y = np.zeros(n)\n",
        "\n",
        "\n",
        "# LU factorization\n",
        "for k in range(n-1): # 0, 1, ..., n-2\n",
        "    for i in range(k+1, n): # k+1, k+2, ... , n-1\n",
        "        M[i][k] = A[i][k]/A[k][k]\n",
        "        A[i][k] = 0\n",
        "        for j in range(k+1, n): # k+1, k+2, ..., n-1\n",
        "            A[i][j] = A[i][j] - M[i][k]*A[k][j]\n",
        "        L[i][k] = M[i][k]\n",
        "\n",
        "print(\"A\")\n",
        "print(A)\n",
        "print(\"L\")\n",
        "print(L)\n",
        "\n",
        "# Forward substitution\n",
        "\n",
        "y[0] = b[0]\n",
        "for i in range(1, n): # 1, 2, ..., n-1\n",
        "    sum = 0\n",
        "    for j in range(i): # 0, ... , i-1\n",
        "        sum += L[i][j]*y[j] \n",
        "    y[i] = b[i] - sum\n",
        "\n",
        "print(\"y\")\n",
        "print(y)\n",
        "\n",
        "z = np.zeros(n)\n",
        "\n",
        "# Backward substitution\n",
        "z[n-1] = y[n-1] / A[n-1][n-1]\n",
        "for i in range(n-2, -1, -1): # n-2, n-1, ..., 0\n",
        "    sum = 0\n",
        "    for j in range(i+1,n): # i+1, i+2, ..., n-1\n",
        "        sum += A[i][j]*z[j]\n",
        "    z[i] = (y[i] - sum) / A[i][i]\n",
        "\n",
        "print(z)\n",
        "\n",
        "#print(\"p(x) = {0:e} + {1:e} * x\".format(z[0], z[1]))\n",
        "#print(\"p(x) = {0:e} + {1:e} * x + {2:e} * x**2\".format(z[0], z[1], z[2]))\n",
        "print(\"p(x) = {0:e} + {1:e} * x + {2:e} * x**2 + {3:e} * x**3\".format(z[0], z[1], z[2], z[3]))"
      ],
      "execution_count": null,
      "outputs": [
        {
          "output_type": "stream",
          "text": [
            "m 8 n 4\n",
            "[[  1.   1.   1.   1.   1.   1.   1.   1.]\n",
            " [  0.   1.   1.   2.   2.   3.   5.   6.]\n",
            " [  0.   1.   1.   4.   4.   9.  25.  36.]\n",
            " [  0.   1.   1.   8.   8.  27. 125. 216.]]\n",
            "A\n",
            "[[   8.           20.           80.          386.        ]\n",
            " [   0.           30.          186.         1071.        ]\n",
            " [   0.            0.           82.8         709.8       ]\n",
            " [   0.            0.            0.          196.06521739]]\n",
            "L\n",
            "[[ 1.          0.          0.          0.        ]\n",
            " [ 2.5         1.          0.          0.        ]\n",
            " [10.          6.2         1.          0.        ]\n",
            " [48.25       35.7         8.57246377  1.        ]]\n",
            "y\n",
            "[290.         690.         375.         206.82608696]\n",
            "[-2.82658831 13.32725358 -4.51397051  1.05488413]\n",
            "p(x) = -2.826588e+00 + 1.332725e+01 * x + -4.513971e+00 * x**2 + 1.054884e+00 * x**3\n"
          ],
          "name": "stdout"
        }
      ]
    },
    {
      "cell_type": "code",
      "metadata": {
        "colab": {
          "base_uri": "https://localhost:8080/"
        },
        "id": "pnDfY6BdvB2Q",
        "outputId": "afc9cf5c-2d15-471b-e258-3ef8adc0b4e7"
      },
      "source": [
        "y = np.array([1, 2, 3, 15, 15, 33,  75, 146])\n",
        "np.sum((y - (z[0] + z[1]*a + z[2]*a**2 + z[3]*a**3))**2)"
      ],
      "execution_count": null,
      "outputs": [
        {
          "output_type": "execute_result",
          "data": {
            "text/plain": [
              "194.9528772591196"
            ]
          },
          "metadata": {
            "tags": []
          },
          "execution_count": 7
        }
      ]
    },
    {
      "cell_type": "markdown",
      "metadata": {
        "id": "jR6VlwZJ3m3J"
      },
      "source": [
        "# 解答コード QR分解"
      ]
    },
    {
      "cell_type": "code",
      "metadata": {
        "colab": {
          "base_uri": "https://localhost:8080/"
        },
        "id": "C9Qz-Nodlc5-",
        "outputId": "f04d24fa-f60e-4bbe-c014-743f48e97d80"
      },
      "source": [
        "import numpy as np\n",
        "\n",
        "#x = np.array([0, 1, 2, 3, 4, 5])\n",
        "x = np.array([0, 1, 1, 2, 2, 3, 5, 6])\n",
        "#y = np.array([10, 25, 51, 66, 97, 118])\n",
        "y = np.array([1, 2, 3, 15, 15, 33,  75, 146])\n",
        "\n",
        "m = len(x)\n",
        "\n",
        "XT =np.array([np.ones(m), x, x**2, x**3])\n",
        "n = len(XT)\n",
        "print(\"m\", m, \"n\", n)\n",
        "print(XT)\n",
        "print(np.dot(XT, np.transpose(XT)))"
      ],
      "execution_count": null,
      "outputs": [
        {
          "output_type": "stream",
          "text": [
            "m 8 n 4\n",
            "[[  1.   1.   1.   1.   1.   1.   1.   1.]\n",
            " [  0.   1.   1.   2.   2.   3.   5.   6.]\n",
            " [  0.   1.   1.   4.   4.   9.  25.  36.]\n",
            " [  0.   1.   1.   8.   8.  27. 125. 216.]]\n",
            "[[8.000e+00 2.000e+01 8.000e+01 3.860e+02]\n",
            " [2.000e+01 8.000e+01 3.860e+02 2.036e+03]\n",
            " [8.000e+01 3.860e+02 2.036e+03 1.121e+04]\n",
            " [3.860e+02 2.036e+03 1.121e+04 6.314e+04]]\n"
          ],
          "name": "stdout"
        }
      ]
    },
    {
      "cell_type": "code",
      "metadata": {
        "colab": {
          "base_uri": "https://localhost:8080/"
        },
        "id": "JI7WC5fUNugm",
        "outputId": "1768789c-dd86-48ac-cbeb-73d23d82b166"
      },
      "source": [
        "U = []\n",
        "for i in range(n):\n",
        "    a = XT[i][i:]\n",
        "    norm_a = np.linalg.norm(a)\n",
        "    d = np.sign(a[0]) * norm_a\n",
        "    w = - d * np.append([1], np.zeros(m-1-i))\n",
        "    u = (a - w) / (np.sqrt(norm_a*(norm_a + abs(a[0]))))\n",
        "    U.append(np.append(np.zeros(i), u))\n",
        "\n",
        "    XT[i][i:] = w\n",
        "\n",
        "    for j in range(i+1, n):\n",
        "        XT[j][i:] = XT[j][i:] - np.dot(u, XT[j][i:])*u\n",
        "\n",
        "print(XT)"
      ],
      "execution_count": null,
      "outputs": [
        {
          "output_type": "stream",
          "text": [
            "[[  -2.82842712   -0.           -0.           -0.           -0.\n",
            "    -0.           -0.           -0.        ]\n",
            " [  -7.07106781    5.47722558    0.            0.            0.\n",
            "     0.            0.            0.        ]\n",
            " [ -28.28427125   33.95879857    9.09945053    0.            0.\n",
            "     0.            0.            0.        ]\n",
            " [-136.47160877  195.53695303   78.00471     -14.002329     -0.\n",
            "    -0.           -0.           -0.        ]]\n"
          ],
          "name": "stdout"
        }
      ]
    },
    {
      "cell_type": "code",
      "metadata": {
        "colab": {
          "base_uri": "https://localhost:8080/"
        },
        "id": "dbJa2i85P_0Y",
        "outputId": "9500fe3f-06f8-4a2e-c1de-4a0e6ecf588e"
      },
      "source": [
        "H = np.eye(m)\n",
        "for i in range(n):\n",
        "    H = np.array(np.eye(m) - np.outer(U[i], U[i])) @ H\n",
        "y = H[:n] @ y\n",
        "print(y)"
      ],
      "execution_count": null,
      "outputs": [
        {
          "output_type": "stream",
          "text": [
            "[-102.53048327  125.97618823   41.21127959  -14.77083469]\n"
          ],
          "name": "stdout"
        }
      ]
    },
    {
      "cell_type": "code",
      "metadata": {
        "colab": {
          "base_uri": "https://localhost:8080/"
        },
        "id": "TJV7V7RyP9v5",
        "outputId": "cbf78641-b272-4dc6-c572-acddd6604df5"
      },
      "source": [
        "X =  np.transpose(XT)\n",
        "R = X[:n]\n",
        "print(R)\n",
        "\n",
        "alpha = np.zeros(n)\n",
        "\n",
        "# Backward substitution\n",
        "alpha[n-1] = y[n-1] / R[n-1][n-1]\n",
        "for i in range(n-2, -1, -1): # n-2, n-1, ..., 0\n",
        "    sum = 0\n",
        "    for j in range(i+1,n): # i+1, i+2, ..., n-1\n",
        "        sum += R[i][j]*alpha[j]\n",
        "    alpha[i] = (y[i] - sum) / R[i][i]\n",
        "\n",
        "print(alpha)\n",
        "print(\"p(x) = {0:e} + {1:e} * x + {2:e} * x**2 + {3:e} * x**3\".format(alpha[0], alpha[1], alpha[2], alpha[3]))"
      ],
      "execution_count": null,
      "outputs": [
        {
          "output_type": "stream",
          "text": [
            "[[  -2.82842712   -7.07106781  -28.28427125 -136.47160877]\n",
            " [  -0.            5.47722558   33.95879857  195.53695303]\n",
            " [  -0.            0.            9.09945053   78.00471   ]\n",
            " [  -0.            0.            0.          -14.002329  ]]\n",
            "[-2.82658831 13.32725358 -4.51397051  1.05488413]\n",
            "p(x) = -2.826588e+00 + 1.332725e+01 * x + -4.513971e+00 * x**2 + 1.054884e+00 * x**3\n"
          ],
          "name": "stdout"
        }
      ]
    },
    {
      "cell_type": "code",
      "metadata": {
        "colab": {
          "base_uri": "https://localhost:8080/"
        },
        "id": "IaHU4flvmCrd",
        "outputId": "94351102-3b81-49e1-f2a2-cfc77b8c49fc"
      },
      "source": [
        "print(U)\n",
        "print(H)\n",
        "print(X)"
      ],
      "execution_count": null,
      "outputs": [
        {
          "output_type": "stream",
          "text": [
            "[array([1.16342313, 0.30389063, 0.30389063, 0.30389063, 0.30389063,\n",
            "       0.30389063, 0.30389063, 0.30389063]), array([ 0.        , -1.0745411 , -0.14391126,  0.02599772,  0.02599772,\n",
            "        0.1959067 ,  0.53572467,  0.70563366]), array([ 0.        ,  0.        , -1.05270219, -0.455592  , -0.455592  ,\n",
            "       -0.59962829, -0.26133143,  0.22100172]), array([ 0.        ,  0.        ,  0.        ,  1.07555497,  0.14580239,\n",
            "       -0.26598886, -0.33831718,  0.79794397])]\n",
            "[[-0.35355339 -0.35355339 -0.35355339 -0.35355339 -0.35355339 -0.35355339\n",
            "  -0.35355339 -0.35355339]\n",
            " [-0.45643546 -0.27386128 -0.27386128 -0.09128709 -0.09128709  0.09128709\n",
            "   0.45643546  0.63900965]\n",
            " [ 0.6044321   0.03296902  0.03296902 -0.31870056 -0.31870056 -0.45057666\n",
            "  -0.05494837  0.47255601]\n",
            " [ 0.43910915 -0.26626005 -0.26626005 -0.17569541 -0.17569541  0.28230293\n",
            "   0.58660014 -0.42410129]\n",
            " [ 0.11960357  0.01486852 -0.43026569 -0.32396487  0.81159528 -0.18862148\n",
            "  -0.02529283  0.02207749]\n",
            " [ 0.12732313  0.36500263 -0.59055579  0.0221121  -0.22519173  0.52138747\n",
            "  -0.38801687  0.16793906]\n",
            " [-0.1772829   0.66939562 -0.27263624  0.16082086 -0.15373041 -0.4502977\n",
            "   0.40243175 -0.17870099]\n",
            " [-0.21579212  0.38272724  0.34612629 -0.77648066 -0.0345902   0.27159055\n",
            "   0.07999684 -0.05357795]]\n",
            "[[  -2.82842712   -7.07106781  -28.28427125 -136.47160877]\n",
            " [  -0.            5.47722558   33.95879857  195.53695303]\n",
            " [  -0.            0.            9.09945053   78.00471   ]\n",
            " [  -0.            0.            0.          -14.002329  ]\n",
            " [  -0.            0.            0.           -0.        ]\n",
            " [  -0.            0.            0.           -0.        ]\n",
            " [  -0.            0.            0.           -0.        ]\n",
            " [  -0.            0.            0.           -0.        ]]\n"
          ],
          "name": "stdout"
        }
      ]
    },
    {
      "cell_type": "markdown",
      "metadata": {
        "id": "5bwXPJFbXtxw"
      },
      "source": [
        "# ↓ レポート表示用"
      ]
    },
    {
      "cell_type": "code",
      "metadata": {
        "colab": {
          "base_uri": "https://localhost:8080/"
        },
        "id": "9HTfpycoXWjI",
        "outputId": "a89ab86c-5f54-472e-f2d8-f40640de7fc5"
      },
      "source": [
        "import numpy as np\n",
        "\n",
        "x = np.array([0, 1, 1, 2, 2, 3, 5, 6])\n",
        "y = np.array([1, 2, 3, 15, 15, 33,  75, 146])\n",
        "\n",
        "m = len(x)\n",
        "\n",
        "XT = np.array([np.ones(m), x, x**2, x**3])\n",
        "X = np.transpose(XT)\n",
        "\n",
        "n = len(XT)\n",
        "print(\"m\", m, \"n\", n)\n",
        "print(X)\n",
        "print(np.dot(np.transpose(X), X))\n",
        "\n",
        "U = np.zeros(m*n).reshape(m, n)\n",
        "\n",
        "for j in range(n):\n",
        "    norm_x = 0\n",
        "    for i in range(j, m):\n",
        "        norm_x = norm_x + X[i][j]**2\n",
        "    norm_x = np.sqrt(norm_x)\n",
        "    if X[j][j] >= 0:\n",
        "        d = norm_x\n",
        "    else:\n",
        "        d = - norm_x\n",
        "    g = np.sqrt(norm_x*(norm_x + abs(X[j][j])))\n",
        "\n",
        "    U[j][j] = (X[j][j] + d) / g\n",
        "    X[j][j] = - d\n",
        "    for i in range(j+1, m):\n",
        "        U[i][j] = X[i][j] / g\n",
        "        X[i][j] = 0\n",
        "\n",
        "    temp = np.zeros(m*n).reshape(m, n)\n",
        "    for i in range(j, m):\n",
        "        for k in range(j+1, n):\n",
        "            sum = 0\n",
        "            for l in range(j, m):\n",
        "                sum = sum + U[l][j] * X[l][k]\n",
        "            temp[i][k] = X[i][k] - sum * U[i][j]\n",
        "    for i in range(j, m):\n",
        "        for k in range(j+1, n):\n",
        "            X[i][k] = temp[i][k]\n",
        "\n",
        "print(X)\n",
        "\n",
        "H = np.zeros(m**2).reshape(m, m)\n",
        "\n",
        "for i in range(m):\n",
        "    H[i][i] = 1\n",
        "\n",
        "temp = np.zeros(m*m).reshape(m, m)\n",
        "for l in range(n):\n",
        "    for i in range(m):\n",
        "        for j in range(m):\n",
        "            sum = 0\n",
        "            for k in range(m):\n",
        "                if i == k:\n",
        "                    sum = sum + (1 - U[i][l] * U[k][l]) * H[k][j]\n",
        "                else:\n",
        "                    sum = sum + ( - U[i][l] * U[k][l]) * H[k][j]\n",
        "            temp[i][j] = sum\n",
        "    for i in range(m):\n",
        "        for j in range(m):\n",
        "            H[i][j] = temp[i][j]\n",
        "\n",
        "z = np.zeros(n)\n",
        "\n",
        "for j in range(n):\n",
        "    sum = 0\n",
        "    for k in range(m):\n",
        "        sum = sum + H[j][k] * y[k]\n",
        "    z[j] = sum\n",
        "\n",
        "alpha = np.zeros(n)\n",
        "\n",
        "# Backward substitution\n",
        "alpha[n-1] =z[n-1] / X[n-1][n-1]\n",
        "for i in range(n-2, -1, -1): # n-2, n-1, ..., 0\n",
        "    sum = 0\n",
        "    for j in range(i+1,n): # i+1, i+2, ..., n-1\n",
        "        sum = sum + X[i][j]*alpha[j]\n",
        "    alpha[i] = (z[i] - sum) / X[i][i]\n",
        "\n",
        "print(alpha)\n",
        "print(\"p(x) = {0:e} + {1:e} * x + {2:e} * x**2 + {3:e} * x**3\".format(alpha[0], alpha[1], alpha[2], alpha[3]))"
      ],
      "execution_count": null,
      "outputs": [
        {
          "output_type": "stream",
          "text": [
            "m 8 n 4\n",
            "[[  1.   0.   0.   0.]\n",
            " [  1.   1.   1.   1.]\n",
            " [  1.   1.   1.   1.]\n",
            " [  1.   2.   4.   8.]\n",
            " [  1.   2.   4.   8.]\n",
            " [  1.   3.   9.  27.]\n",
            " [  1.   5.  25. 125.]\n",
            " [  1.   6.  36. 216.]]\n",
            "[[8.000e+00 2.000e+01 8.000e+01 3.860e+02]\n",
            " [2.000e+01 8.000e+01 3.860e+02 2.036e+03]\n",
            " [8.000e+01 3.860e+02 2.036e+03 1.121e+04]\n",
            " [3.860e+02 2.036e+03 1.121e+04 6.314e+04]]\n",
            "[[  -2.82842712   -7.07106781  -28.28427125 -136.47160877]\n",
            " [   0.            5.47722558   33.95879857  195.53695303]\n",
            " [   0.            0.            9.09945053   78.00471   ]\n",
            " [   0.            0.            0.          -14.002329  ]\n",
            " [   0.            0.            0.            0.        ]\n",
            " [   0.            0.            0.            0.        ]\n",
            " [   0.            0.            0.            0.        ]\n",
            " [   0.            0.            0.            0.        ]]\n",
            "[-2.82658831 13.32725358 -4.51397051  1.05488413]\n",
            "p(x) = -2.826588e+00 + 1.332725e+01 * x + -4.513971e+00 * x**2 + 1.054884e+00 * x**3\n"
          ],
          "name": "stdout"
        }
      ]
    },
    {
      "cell_type": "code",
      "metadata": {
        "colab": {
          "base_uri": "https://localhost:8080/"
        },
        "id": "tcl-JLSK1gSH",
        "outputId": "ac681249-dc8f-4884-b1b8-270140863735"
      },
      "source": [
        "print(np.transpose(H[n:]) @ H[n:])\n",
        "print(H[n:] @ np.transpose(H[n:]))"
      ],
      "execution_count": null,
      "outputs": [
        {
          "output_type": "stream",
          "text": [
            "[[ 0.10851166 -0.15301031 -0.15301031  0.10311564  0.10311564  0.06504786\n",
            "  -0.14103559  0.0672654 ]\n",
            " [-0.15301031  0.72801863 -0.27198137 -0.18627342 -0.18627342 -0.00997893\n",
            "   0.15799978 -0.07850094]\n",
            " [-0.15301031 -0.27198137  0.72801863 -0.18627342 -0.18627342 -0.00997893\n",
            "   0.15799978 -0.07850094]\n",
            " [ 0.10311564 -0.18627342 -0.18627342  0.73422774 -0.26577226 -0.21066637\n",
            "   0.00221754  0.00942455]\n",
            " [ 0.10311564 -0.18627342 -0.18627342 -0.26577226  0.73422774 -0.21066637\n",
            "   0.00221754  0.00942455]\n",
            " [ 0.06504786 -0.00997893 -0.00997893 -0.21066637 -0.21066637  0.5839524\n",
            "  -0.35702406  0.14931441]\n",
            " [-0.14103559  0.15799978  0.15799978  0.00221754  0.00221754 -0.35702406\n",
            "   0.31954762 -0.14192261]\n",
            " [ 0.0672654  -0.07850094 -0.07850094  0.00942455  0.00942455  0.14931441\n",
            "  -0.14192261  0.06349558]]\n",
            "[[ 1.00000000e+00  2.07117905e-16  8.28828359e-17 -1.48571421e-16]\n",
            " [ 2.07117905e-16  1.00000000e+00  9.98559155e-17 -5.41712841e-17]\n",
            " [ 8.28828359e-17  9.98559155e-17  1.00000000e+00 -2.21053890e-16]\n",
            " [-1.48571421e-16 -5.41712841e-17 -2.21053890e-16  1.00000000e+00]]\n"
          ],
          "name": "stdout"
        }
      ]
    },
    {
      "cell_type": "markdown",
      "metadata": {
        "id": "1oZpWPS3QYUa"
      },
      "source": [
        "# ↓以下試行錯誤していた際の残り"
      ]
    },
    {
      "cell_type": "markdown",
      "metadata": {
        "id": "0zK7cRE-QJE1"
      },
      "source": [
        "# 1列目に関するコード"
      ]
    },
    {
      "cell_type": "code",
      "metadata": {
        "colab": {
          "base_uri": "https://localhost:8080/"
        },
        "id": "6uXEXYDnEKyh",
        "outputId": "d7d56b88-97b9-4de7-b89e-3ece8061ffba"
      },
      "source": [
        "m = len(x)\n",
        "n = len(XT)\n",
        "a = XT[0][0:]\n",
        "norm_a = np.linalg.norm(a)\n",
        "d = np.sign(a[0]) * norm_a\n",
        "w = - d * np.append([1], np.zeros(m-1-0))\n",
        "u = (a - w) / (np.sqrt(norm_a*(norm_a + abs(a[0]))))\n",
        "\n",
        "print(d)\n",
        "print(u)\n",
        "print(w)\n",
        "print(a - np.dot(u, a) * u)\n",
        "\n",
        "XT[0] = w\n",
        "for i in range(1, n):\n",
        "    XT[i] = XT[i] - np.dot(u, XT[i])*u\n",
        "\n",
        "print(XT)"
      ],
      "execution_count": null,
      "outputs": [
        {
          "output_type": "stream",
          "text": [
            "2.8284271247461903\n",
            "[1.16342313 0.30389063 0.30389063 0.30389063 0.30389063 0.30389063\n",
            " 0.30389063 0.30389063]\n",
            "[-2.82842712 -0.         -0.         -0.         -0.         -0.\n",
            " -0.         -0.        ]\n",
            "[-2.82842712e+00 -2.22044605e-16 -2.22044605e-16 -2.22044605e-16\n",
            " -2.22044605e-16 -2.22044605e-16 -2.22044605e-16 -2.22044605e-16]\n",
            "[[-2.82842712e+00 -0.00000000e+00 -0.00000000e+00 -0.00000000e+00\n",
            "  -0.00000000e+00 -0.00000000e+00 -0.00000000e+00 -0.00000000e+00]\n",
            " [-7.07106781e+00 -8.46990313e-01 -8.46990313e-01  1.53009687e-01\n",
            "   1.53009687e-01  1.15300969e+00  3.15300969e+00  4.15300969e+00]\n",
            " [-2.82842712e+01 -6.38796125e+00 -6.38796125e+00 -3.38796125e+00\n",
            "  -3.38796125e+00  1.61203875e+00  1.76120387e+01  2.86120387e+01]\n",
            " [-1.36471609e+02 -3.46469130e+01 -3.46469130e+01 -2.76469130e+01\n",
            "  -2.76469130e+01 -8.64691303e+00  8.93530870e+01  1.80353087e+02]]\n"
          ],
          "name": "stdout"
        }
      ]
    },
    {
      "cell_type": "markdown",
      "metadata": {
        "id": "4P7xM1uhQWoB"
      },
      "source": [
        "# 2列目に関するコード"
      ]
    },
    {
      "cell_type": "code",
      "metadata": {
        "colab": {
          "base_uri": "https://localhost:8080/"
        },
        "id": "KPqIuCSXIRMZ",
        "outputId": "f6cee695-1c20-47de-fe4c-3ff442d7f2a3"
      },
      "source": [
        "a = XT[1][1:]\n",
        "norm_a = np.linalg.norm(a)\n",
        "d = np.sign(a[0]) * norm_a\n",
        "w = - d * np.append([1], np.zeros(m-1-1))\n",
        "u = (a - w) / (np.sqrt(norm_a*(norm_a + abs(a[0]))))\n",
        "\n",
        "print(d)\n",
        "print(u)\n",
        "print(w)\n",
        "print(a - np.dot(u, a) * u)\n",
        "\n",
        "XT[1][1:] = w\n",
        "\n",
        "for i in range(1+1, n):\n",
        "    XT[i][1:] = XT[i][1:] - np.dot(u, XT[i][1:])*u\n",
        "\n",
        "print(XT)"
      ],
      "execution_count": null,
      "outputs": [
        {
          "output_type": "stream",
          "text": [
            "-5.477225575051661\n",
            "[-1.0745411  -0.14391126  0.02599772  0.02599772  0.1959067   0.53572467\n",
            "  0.70563366]\n",
            "[5.47722558 0.         0.         0.         0.         0.\n",
            " 0.        ]\n",
            "[ 5.47722558e+00 -2.22044605e-16  5.55111512e-17  5.55111512e-17\n",
            "  4.44089210e-16  8.88178420e-16  8.88178420e-16]\n",
            "[[  -2.82842712   -0.           -0.           -0.           -0.\n",
            "    -0.           -0.           -0.        ]\n",
            " [  -7.07106781    5.47722558    0.            0.            0.\n",
            "     0.            0.            0.        ]\n",
            " [ -28.28427125   33.95879857   -0.98439576   -4.36412102   -4.36412102\n",
            "    -5.74384627   -2.50329678    2.11697796]\n",
            " [-136.47160877  195.53695303   -3.81882175  -33.21604002  -33.21604002\n",
            "   -50.6132583   -25.40769484   29.19508689]]\n"
          ],
          "name": "stdout"
        }
      ]
    },
    {
      "cell_type": "code",
      "metadata": {
        "colab": {
          "base_uri": "https://localhost:8080/"
        },
        "id": "S3G2n_9IN1LI",
        "outputId": "fe296075-697d-4633-de3a-63be9697e23d"
      },
      "source": [
        "a = np.array([[1,2,3,4]])\n",
        "\n",
        "print(np.outer(a, a))\n"
      ],
      "execution_count": null,
      "outputs": [
        {
          "output_type": "stream",
          "text": [
            "[[ 1  2  3  4]\n",
            " [ 2  4  6  8]\n",
            " [ 3  6  9 12]\n",
            " [ 4  8 12 16]]\n"
          ],
          "name": "stdout"
        }
      ]
    },
    {
      "cell_type": "code",
      "metadata": {
        "colab": {
          "base_uri": "https://localhost:8080/"
        },
        "id": "rFCOZcTXWHKQ",
        "outputId": "a4649951-50a7-48f5-9775-179892412b22"
      },
      "source": [
        "A = np.array([[1,2],[3,4]])\n",
        "c = np.array([1,1])\n",
        "print(A@A)\n",
        "print(A@c)"
      ],
      "execution_count": null,
      "outputs": [
        {
          "output_type": "stream",
          "text": [
            "[[ 7 10]\n",
            " [15 22]]\n",
            "[3 7]\n"
          ],
          "name": "stdout"
        }
      ]
    },
    {
      "cell_type": "code",
      "metadata": {
        "colab": {
          "base_uri": "https://localhost:8080/"
        },
        "id": "zsaZ0HUydCJG",
        "outputId": "cca1a915-1759-4f2f-eca7-7022bdd31957"
      },
      "source": [
        "g = 0\n",
        "for i in range(5):\n",
        "    g += i**2\n",
        "print(g)"
      ],
      "execution_count": null,
      "outputs": [
        {
          "output_type": "stream",
          "text": [
            "30\n"
          ],
          "name": "stdout"
        }
      ]
    },
    {
      "cell_type": "code",
      "metadata": {
        "colab": {
          "base_uri": "https://localhost:8080/"
        },
        "id": "1nVL7KgSUbTj",
        "outputId": "022ae5d0-5bcb-43f8-932c-02fe43224ec4"
      },
      "source": [
        "Q=H[:n][:m]\n",
        "print(Q)\n",
        "print(np.transpose(Q)@Q)\n",
        "print(Q@np.transpose(Q))"
      ],
      "execution_count": null,
      "outputs": [
        {
          "output_type": "stream",
          "text": [
            "[[-0.35355339 -0.35355339 -0.35355339 -0.35355339 -0.35355339 -0.35355339\n",
            "  -0.35355339 -0.35355339]\n",
            " [-0.45643546 -0.27386128 -0.27386128 -0.09128709 -0.09128709  0.09128709\n",
            "   0.45643546  0.63900965]\n",
            " [ 0.6044321   0.03296902  0.03296902 -0.31870056 -0.31870056 -0.45057666\n",
            "  -0.05494837  0.47255601]\n",
            " [ 0.43910915 -0.26626005 -0.26626005 -0.17569541 -0.17569541  0.28230293\n",
            "   0.58660014 -0.42410129]]\n",
            "[[ 0.89148834  0.15301031  0.15301031 -0.10311564 -0.10311564 -0.06504786\n",
            "   0.14103559 -0.0672654 ]\n",
            " [ 0.15301031  0.27198137  0.27198137  0.18627342  0.18627342  0.00997893\n",
            "  -0.15799978  0.07850094]\n",
            " [ 0.15301031  0.27198137  0.27198137  0.18627342  0.18627342  0.00997893\n",
            "  -0.15799978  0.07850094]\n",
            " [-0.10311564  0.18627342  0.18627342  0.26577226  0.26577226  0.21066637\n",
            "  -0.00221754 -0.00942455]\n",
            " [-0.10311564  0.18627342  0.18627342  0.26577226  0.26577226  0.21066637\n",
            "  -0.00221754 -0.00942455]\n",
            " [-0.06504786  0.00997893  0.00997893  0.21066637  0.21066637  0.4160476\n",
            "   0.35702406 -0.14931441]\n",
            " [ 0.14103559 -0.15799978 -0.15799978 -0.00221754 -0.00221754  0.35702406\n",
            "   0.68045238  0.14192261]\n",
            " [-0.0672654   0.07850094  0.07850094 -0.00942455 -0.00942455 -0.14931441\n",
            "   0.14192261  0.93650442]]\n",
            "[[ 1.00000000e+00  8.48632115e-17 -1.01423342e-16 -8.36178570e-17]\n",
            " [ 8.48632115e-17  1.00000000e+00 -4.92618686e-17 -2.91063996e-16]\n",
            " [-1.01423342e-16 -4.92618686e-17  1.00000000e+00  1.29579278e-16]\n",
            " [-8.36178570e-17 -2.91063996e-16  1.29579278e-16  1.00000000e+00]]\n"
          ],
          "name": "stdout"
        }
      ]
    },
    {
      "cell_type": "markdown",
      "metadata": {
        "id": "wCWvbNsx7Ds5"
      },
      "source": [
        "# 新しいコードの実装"
      ]
    },
    {
      "cell_type": "code",
      "metadata": {
        "colab": {
          "base_uri": "https://localhost:8080/"
        },
        "id": "Is2i1zmJClnw",
        "outputId": "5e28580e-b34c-4dc1-ef81-804a9d3b47e5"
      },
      "source": [
        "import numpy as np\n",
        "\n",
        "#x = np.array([0, 1, 2, 3, 4, 5])\n",
        "x = np.array([0, 1, 1, 2, 2, 3, 5, 6])\n",
        "#y = np.array([10, 25, 51, 66, 97, 118])\n",
        "y = np.array([1, 2, 3, 15, 15, 33,  75, 146])\n",
        "\n",
        "m = len(x)\n",
        "\n",
        "XT =np.array([np.ones(m), x, x**2, x**3])\n",
        "n = len(XT)\n",
        "print(\"m\", m, \"n\", n)\n",
        "print(XT)\n",
        "print(np.dot(XT, np.transpose(XT)))\n",
        "\n",
        "U = []\n",
        "for i in range(n):\n",
        "    a = XT[i][i:]\n",
        "    norm_a = np.linalg.norm(a)\n",
        "    d = np.sign(a[0]) * norm_a\n",
        "    w = - d * np.append([1], np.zeros(m-1-i))\n",
        "    u = (a - w) / (np.sqrt(norm_a*(norm_a + abs(a[0]))))\n",
        "    U.append(np.append(np.zeros(i), u))\n",
        "\n",
        "    XT[i][i:] = w\n",
        "\n",
        "    for j in range(i+1, n):\n",
        "        XT[j][i:] = XT[j][i:] - np.dot(u, XT[j][i:])*u\n",
        "\n",
        "print(XT)\n",
        "\n",
        "H = np.eye(m)\n",
        "for i in range(n):\n",
        "    H = np.array(np.eye(m) - np.outer(U[i], U[i])) @ H\n",
        "y = H[:n] @ y\n",
        "print(\"y\", y)\n",
        "\n",
        "\n",
        "X =  np.transpose(XT)\n",
        "R = X[:n]\n",
        "print(R)\n",
        "\n",
        "alpha = np.zeros(n)\n",
        "\n",
        "# Backward substitution\n",
        "alpha[n-1] = y[n-1] / R[n-1][n-1]\n",
        "for i in range(n-2, -1, -1): # n-2, n-1, ..., 0\n",
        "    sum = 0\n",
        "    for j in range(i+1,n): # i+1, i+2, ..., n-1\n",
        "        sum += R[i][j]*alpha[j]\n",
        "    alpha[i] = (y[i] - sum) / R[i][i]\n",
        "\n",
        "print(alpha)\n",
        "print(\"p(x) = {0:e} + {1:e} * x + {2:e} * x**2 + {3:e} * x**3\".format(alpha[0], alpha[1], alpha[2], alpha[3]))"
      ],
      "execution_count": null,
      "outputs": [
        {
          "output_type": "stream",
          "text": [
            "m 8 n 4\n",
            "[[  1.   1.   1.   1.   1.   1.   1.   1.]\n",
            " [  0.   1.   1.   2.   2.   3.   5.   6.]\n",
            " [  0.   1.   1.   4.   4.   9.  25.  36.]\n",
            " [  0.   1.   1.   8.   8.  27. 125. 216.]]\n",
            "[[8.000e+00 2.000e+01 8.000e+01 3.860e+02]\n",
            " [2.000e+01 8.000e+01 3.860e+02 2.036e+03]\n",
            " [8.000e+01 3.860e+02 2.036e+03 1.121e+04]\n",
            " [3.860e+02 2.036e+03 1.121e+04 6.314e+04]]\n",
            "[[  -2.82842712   -0.           -0.           -0.           -0.\n",
            "    -0.           -0.           -0.        ]\n",
            " [  -7.07106781    5.47722558    0.            0.            0.\n",
            "     0.            0.            0.        ]\n",
            " [ -28.28427125   33.95879857    9.09945053    0.            0.\n",
            "     0.            0.            0.        ]\n",
            " [-136.47160877  195.53695303   78.00471     -14.002329     -0.\n",
            "    -0.           -0.           -0.        ]]\n",
            "y [-102.53048327  125.97618823   41.21127959  -14.77083469]\n",
            "[[  -2.82842712   -7.07106781  -28.28427125 -136.47160877]\n",
            " [  -0.            5.47722558   33.95879857  195.53695303]\n",
            " [  -0.            0.            9.09945053   78.00471   ]\n",
            " [  -0.            0.            0.          -14.002329  ]]\n",
            "[-2.82658831 13.32725358 -4.51397051  1.05488413]\n",
            "p(x) = -2.826588e+00 + 1.332725e+01 * x + -4.513971e+00 * x**2 + 1.054884e+00 * x**3\n"
          ],
          "name": "stdout"
        }
      ]
    },
    {
      "cell_type": "code",
      "metadata": {
        "colab": {
          "base_uri": "https://localhost:8080/"
        },
        "id": "ByDXKu8t7HYz",
        "outputId": "63027003-d7ab-4798-98d9-83a2398ace88"
      },
      "source": [
        "import numpy as np\n",
        "\n",
        "#x = np.array([0, 1, 2, 3, 4, 5])\n",
        "x = np.array([0, 1, 1, 2, 2, 3, 5, 6])\n",
        "#y = np.array([10, 25, 51, 66, 97, 118])\n",
        "y = np.array([1, 2, 3, 15, 15, 33,  75, 146])\n",
        "\n",
        "m = len(x)\n",
        "\n",
        "XT =np.array([np.ones(m), x, x**2, x**3])\n",
        "n = len(XT)\n",
        "print(\"m\", m, \"n\", n)\n",
        "print(XT)\n",
        "print(np.dot(XT, np.transpose(XT)))\n",
        "\n",
        "U = []\n",
        "for i in range(n):\n",
        "    a = XT[i][i:]\n",
        "    norm_a = np.linalg.norm(a)\n",
        "    d = np.sign(a[0]) * norm_a\n",
        "    w = - d * np.append([1], np.zeros(m-1-i))\n",
        "    u = (a - w) / (np.sqrt(norm_a*(norm_a + abs(a[0]))))\n",
        "    U.append(np.append(np.zeros(i), u))\n",
        "\n",
        "    XT[i][i:] = w\n",
        "\n",
        "    for j in range(i+1, n):\n",
        "        XT[j][i:] = XT[j][i:] - np.dot(u, XT[j][i:])*u\n",
        "\n",
        "print(XT)\n",
        "\n",
        "#H = np.eye(m)\n",
        "#for i in range(n):\n",
        "#    H = np.array(np.eye(m) - np.outer(U[i], U[i])) @ H\n",
        "#y = H[:n] @ y\n",
        "#print(\"y\", y)\n",
        "\n",
        "#for i in reversed(range(n)):\n",
        "for i in range(n):\n",
        "    y = y - np.dot(U[i], y)*U[i]\n",
        "print(\"y\", y)\n",
        "\n",
        "X =  np.transpose(XT)\n",
        "R = X[:n]\n",
        "print(R)\n",
        "\n",
        "alpha = np.zeros(n)\n",
        "\n",
        "# Backward substitution\n",
        "alpha[n-1] = y[n-1] / R[n-1][n-1]\n",
        "for i in range(n-2, -1, -1): # n-2, n-1, ..., 0\n",
        "    sum = 0\n",
        "    for j in range(i+1,n): # i+1, i+2, ..., n-1\n",
        "        sum += R[i][j]*alpha[j]\n",
        "    alpha[i] = (y[i] - sum) / R[i][i]\n",
        "\n",
        "print(alpha)\n",
        "print(\"p(x) = {0:e} + {1:e} * x + {2:e} * x**2 + {3:e} * x**3\".format(alpha[0], alpha[1], alpha[2], alpha[3]))"
      ],
      "execution_count": null,
      "outputs": [
        {
          "output_type": "stream",
          "text": [
            "m 8 n 4\n",
            "[[  1.   1.   1.   1.   1.   1.   1.   1.]\n",
            " [  0.   1.   1.   2.   2.   3.   5.   6.]\n",
            " [  0.   1.   1.   4.   4.   9.  25.  36.]\n",
            " [  0.   1.   1.   8.   8.  27. 125. 216.]]\n",
            "[[8.000e+00 2.000e+01 8.000e+01 3.860e+02]\n",
            " [2.000e+01 8.000e+01 3.860e+02 2.036e+03]\n",
            " [8.000e+01 3.860e+02 2.036e+03 1.121e+04]\n",
            " [3.860e+02 2.036e+03 1.121e+04 6.314e+04]]\n",
            "[[  -2.82842712   -0.           -0.           -0.           -0.\n",
            "    -0.           -0.           -0.        ]\n",
            " [  -7.07106781    5.47722558    0.            0.            0.\n",
            "     0.            0.            0.        ]\n",
            " [ -28.28427125   33.95879857    9.09945053    0.            0.\n",
            "     0.            0.            0.        ]\n",
            " [-136.47160877  195.53695303   78.00471     -14.002329     -0.\n",
            "    -0.           -0.           -0.        ]]\n",
            "y [-102.53048327  125.97618823   41.21127959  -14.77083469    1.27484207\n",
            "    8.66309065  -10.31783092   -3.43815071]\n",
            "[[  -2.82842712   -7.07106781  -28.28427125 -136.47160877]\n",
            " [  -0.            5.47722558   33.95879857  195.53695303]\n",
            " [  -0.            0.            9.09945053   78.00471   ]\n",
            " [  -0.            0.            0.          -14.002329  ]]\n",
            "[-2.82658831 13.32725358 -4.51397051  1.05488413]\n",
            "p(x) = -2.826588e+00 + 1.332725e+01 * x + -4.513971e+00 * x**2 + 1.054884e+00 * x**3\n"
          ],
          "name": "stdout"
        }
      ]
    },
    {
      "cell_type": "code",
      "metadata": {
        "id": "SqwjjajWCfr2"
      },
      "source": [
        "\n",
        "X =  np.transpose(XT)\n",
        "R = X[:n]\n",
        "print(R)\n",
        "\n",
        "alpha = np.zeros(n)\n",
        "\n",
        "# Backward substitution\n",
        "alpha[n-1] = y[n-1] / R[n-1][n-1]\n",
        "for i in range(n-2, -1, -1): # n-2, n-1, ..., 0\n",
        "    sum = 0\n",
        "    for j in range(i+1,n): # i+1, i+2, ..., n-1\n",
        "        sum += R[i][j]*alpha[j]\n",
        "    alpha[i] = (y[i] - sum) / R[i][i]\n",
        "\n",
        "print(alpha)\n",
        "print(\"p(x) = {0:e} + {1:e} * x + {2:e} * x**2 + {3:e} * x**3\".format(alpha[0], alpha[1], alpha[2], alpha[3]))"
      ],
      "execution_count": null,
      "outputs": []
    },
    {
      "cell_type": "code",
      "metadata": {
        "colab": {
          "base_uri": "https://localhost:8080/"
        },
        "id": "SO5nWhuq8wn4",
        "outputId": "f8749895-5774-410d-a913-fd8c26e1defb"
      },
      "source": [
        "print(U)"
      ],
      "execution_count": null,
      "outputs": [
        {
          "output_type": "stream",
          "text": [
            "[array([1.16342313, 0.30389063, 0.30389063, 0.30389063, 0.30389063,\n",
            "       0.30389063, 0.30389063, 0.30389063]), array([ 0.        , -1.0745411 , -0.14391126,  0.02599772,  0.02599772,\n",
            "        0.1959067 ,  0.53572467,  0.70563366]), array([ 0.        ,  0.        , -1.05270219, -0.455592  , -0.455592  ,\n",
            "       -0.59962829, -0.26133143,  0.22100172]), array([ 0.        ,  0.        ,  0.        ,  1.07555497,  0.14580239,\n",
            "       -0.26598886, -0.33831718,  0.79794397])]\n"
          ],
          "name": "stdout"
        }
      ]
    },
    {
      "cell_type": "markdown",
      "metadata": {
        "id": "04bISCkpcasc"
      },
      "source": [
        "# 更なる改良\n"
      ]
    },
    {
      "cell_type": "code",
      "metadata": {
        "colab": {
          "base_uri": "https://localhost:8080/"
        },
        "id": "6UVXCyMACAtG",
        "outputId": "e6679823-52ee-4d2b-ee20-92b030e9f881"
      },
      "source": [
        "import numpy as np\n",
        "\n",
        "#x = np.array([0, 1, 2, 3, 4, 5])\n",
        "x = np.array([0, 1, 1, 2, 2, 3, 5, 6])\n",
        "#y = np.array([10, 25, 51, 66, 97, 118])\n",
        "y = np.array([1, 2, 3, 15, 15, 33,  75, 146])\n",
        "\n",
        "m = len(x)\n",
        "\n",
        "XT =np.array([np.ones(m), x, x**2, x**3])\n",
        "n = len(XT)\n",
        "print(\"m\", m, \"n\", n)\n",
        "print(XT)\n",
        "print(np.dot(XT, np.transpose(XT)))\n",
        "\n",
        "U = []\n",
        "for i in range(n):\n",
        "    a = XT[i][i:]\n",
        "    norm_a = np.linalg.norm(a)\n",
        "    d = np.sign(a[0]) * norm_a\n",
        "    w = - d * np.append([1], np.zeros(m-1-i))\n",
        "    u = (a - w) / (np.sqrt(norm_a*(norm_a + abs(a[0]))))\n",
        "    print(\"u=\", u)\n",
        "    U.append(np.append(np.zeros(i), u))\n",
        "\n",
        "    XT[i][i:] = w\n",
        "\n",
        "    for j in range(i+1, n):\n",
        "        XT[j][i:] = XT[j][i:] - np.dot(u, XT[j][i:])*u\n",
        "    y = y - np.dot(u, y[i:]) * np.append(np.zeros(i), u)\n",
        "    print(\"y=\", y)\n",
        "\n",
        "print(XT)\n",
        "\n",
        "#H = np.eye(m)\n",
        "#for i in range(n):\n",
        "#    H = np.array(np.eye(m) - np.outer(U[i], U[i])) @ H\n",
        "#y = H[:n] @ y\n",
        "#print(\"y\", y)\n",
        "\n",
        "#for i in reversed(range(n)):\n",
        "#for i in range(n):\n",
        "#    y = y - np.dot(U[i], y)*U[i]\n",
        "#print(\"y\", y)\n",
        "\n",
        "X =  np.transpose(XT)\n",
        "R = X[:n]\n",
        "print(R)\n",
        "\n",
        "alpha = np.zeros(n)\n",
        "\n",
        "# Backward substitution\n",
        "alpha[n-1] = y[n-1] / R[n-1][n-1]\n",
        "for i in range(n-2, -1, -1): # n-2, n-1, ..., 0\n",
        "    sum = 0\n",
        "    for j in range(i+1,n): # i+1, i+2, ..., n-1\n",
        "        sum += R[i][j]*alpha[j]\n",
        "    alpha[i] = (y[i] - sum) / R[i][i]\n",
        "\n",
        "print(alpha)\n",
        "print(\"p(x) = {0:e} + {1:e} * x + {2:e} * x**2 + {3:e} * x**3\".format(alpha[0], alpha[1], alpha[2], alpha[3]))"
      ],
      "execution_count": null,
      "outputs": [
        {
          "output_type": "stream",
          "text": [
            "m 8 n 4\n",
            "[[  1.   1.   1.   1.   1.   1.   1.   1.]\n",
            " [  0.   1.   1.   2.   2.   3.   5.   6.]\n",
            " [  0.   1.   1.   4.   4.   9.  25.  36.]\n",
            " [  0.   1.   1.   8.   8.  27. 125. 216.]]\n",
            "[[8.000e+00 2.000e+01 8.000e+01 3.860e+02]\n",
            " [2.000e+01 8.000e+01 3.860e+02 2.036e+03]\n",
            " [8.000e+01 3.860e+02 2.036e+03 1.121e+04]\n",
            " [3.860e+02 2.036e+03 1.121e+04 6.314e+04]]\n",
            "u= [1.16342313 0.30389063 0.30389063 0.30389063 0.30389063 0.30389063\n",
            " 0.30389063 0.30389063]\n",
            "y= [-102.53048327  -25.04256341  -24.04256341  -12.04256341  -12.04256341\n",
            "    5.95743659   47.95743659  118.95743659]\n",
            "u= [-1.0745411  -0.14391126  0.02599772  0.02599772  0.1959067   0.53572467\n",
            "  0.70563366]\n",
            "y= [-102.53048327  125.97618823   -3.81690667  -15.69634949  -15.69634949\n",
            "  -21.5757923   -27.33467793   19.78587926]\n",
            "u= [-1.05270219 -0.455592   -0.455592   -0.59962829 -0.26133143  0.22100172]\n",
            "y= [-102.53048327  125.97618823   41.21127959    3.79110086    3.79110086\n",
            "    4.07265297  -16.15651134   10.33277225]\n",
            "u= [ 1.07555497  0.14580239 -0.26598886 -0.33831718  0.79794397]\n",
            "y= [-102.53048327  125.97618823   41.21127959  -14.77083469    1.27484207\n",
            "    8.66309065  -10.31783092   -3.43815071]\n",
            "[[  -2.82842712   -0.           -0.           -0.           -0.\n",
            "    -0.           -0.           -0.        ]\n",
            " [  -7.07106781    5.47722558    0.            0.            0.\n",
            "     0.            0.            0.        ]\n",
            " [ -28.28427125   33.95879857    9.09945053    0.            0.\n",
            "     0.            0.            0.        ]\n",
            " [-136.47160877  195.53695303   78.00471     -14.002329     -0.\n",
            "    -0.           -0.           -0.        ]]\n",
            "[[  -2.82842712   -7.07106781  -28.28427125 -136.47160877]\n",
            " [  -0.            5.47722558   33.95879857  195.53695303]\n",
            " [  -0.            0.            9.09945053   78.00471   ]\n",
            " [  -0.            0.            0.          -14.002329  ]]\n",
            "[-2.82658831 13.32725358 -4.51397051  1.05488413]\n",
            "p(x) = -2.826588e+00 + 1.332725e+01 * x + -4.513971e+00 * x**2 + 1.054884e+00 * x**3\n"
          ],
          "name": "stdout"
        }
      ]
    },
    {
      "cell_type": "code",
      "metadata": {
        "id": "I36GR7P4oIB2"
      },
      "source": [],
      "execution_count": null,
      "outputs": []
    }
  ]
}