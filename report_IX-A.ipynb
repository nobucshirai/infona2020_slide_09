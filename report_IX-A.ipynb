{
  "nbformat": 4,
  "nbformat_minor": 0,
  "metadata": {
    "colab": {
      "provenance": []
    },
    "kernelspec": {
      "name": "python3",
      "display_name": "Python 3"
    }
  },
  "cells": [
    {
      "cell_type": "markdown",
      "metadata": {
        "id": "jaeqy3WhYbK3"
      },
      "source": [
        "# 数値解析2020 レポート\n",
        "\n",
        "\n",
        "**IX-A.** (1) VIII-A の問3にある8つのデータ点を用いて $2\\times 2$ の分散・共分散行列を構成し、各要素の値を計算するプログラムを作成し有効数字4桁で5桁目を四捨五入して求めよ。\n",
        "(2) 問1で作成した分散・共分散行列にベキ乗法を用いて最大固有値と最大固有ベクトルを求めよ。\n",
        "\n",
        "固有値問題"
      ]
    },
    {
      "cell_type": "markdown",
      "metadata": {
        "id": "6oMty-RaogOy"
      },
      "source": [
        "以下Python3を用いたプログラム例を示す。"
      ]
    },
    {
      "cell_type": "code",
      "metadata": {
        "id": "mMdicca6YOfm",
        "colab": {
          "base_uri": "https://localhost:8080/"
        },
        "outputId": "da1cf0d4-4313-4da5-bbba-2c8ed0086649"
      },
      "source": [
        "# Pythonのバージョン確認\n",
        "import sys\n",
        "print(sys.version)"
      ],
      "execution_count": null,
      "outputs": [
        {
          "output_type": "stream",
          "text": [
            "3.6.9 (default, Oct  8 2020, 12:12:24) \n",
            "[GCC 8.4.0]\n"
          ],
          "name": "stdout"
        }
      ]
    },
    {
      "cell_type": "markdown",
      "metadata": {
        "id": "ktwZETqM-sR_"
      },
      "source": [
        "# 解答コード"
      ]
    },
    {
      "cell_type": "code",
      "metadata": {
        "colab": {
          "base_uri": "https://localhost:8080/"
        },
        "id": "C9Qz-Nodlc5-",
        "outputId": "5693a774-5cb1-40e1-c2de-2c80de65c672"
      },
      "source": [
        "import numpy as np\n",
        "\n",
        "x = np.array([0, 1, 1, 2, 2, 3, 5, 6])\n",
        "y = np.array([1, 2, 3, 15, 15, 33,  75, 146])\n",
        "\n",
        "m = len(x)\n",
        "A = np.cov(x,y)\n",
        "print(A)\n",
        "u = np.array([1,0])\n",
        "\n",
        "for k in range(10):\n",
        "    z = u/np.linalg.norm(u)\n",
        "    u = A @ z\n",
        "    l = np.dot(z, u)\n",
        "    print(k, z, u, l)\n",
        "    if np.linalg.norm(u - l * z) <= 10**-15:\n",
        "        print(k, z, u, l)\n",
        "        break\n",
        "print(z, u, l)\n"
      ],
      "execution_count": null,
      "outputs": [
        {
          "output_type": "stream",
          "text": [
            "[[   4.28571429   98.57142857]\n",
            " [  98.57142857 2568.78571429]]\n",
            "0 [1. 0.] [ 4.28571429 98.57142857] 4.285714285714286\n",
            "1 [0.04343722 0.99905616] [  98.66455228 2570.6428566 ] 2572.5022911051205\n",
            "2 [0.03835304 0.99926425] [  98.66327496 2570.67624799] 2572.568913322222\n",
            "3 [0.03835204 0.99926429] [  98.66327446 2570.67624801] 2572.5689133247633\n",
            "4 [0.03835204 0.99926429] [  98.66327446 2570.67624801] 2572.568913324764\n",
            "5 [0.03835204 0.99926429] [  98.66327446 2570.67624801] 2572.568913324764\n",
            "6 [0.03835204 0.99926429] [  98.66327446 2570.67624801] 2572.568913324764\n",
            "6 [0.03835204 0.99926429] [  98.66327446 2570.67624801] 2572.568913324764\n",
            "[0.03835204 0.99926429] [  98.66327446 2570.67624801] 2572.568913324764\n"
          ],
          "name": "stdout"
        }
      ]
    },
    {
      "cell_type": "code",
      "metadata": {
        "colab": {
          "base_uri": "https://localhost:8080/"
        },
        "id": "dXImlexfHFW2",
        "outputId": "9f37186b-3984-4e1a-be67-8be056c1e8f6"
      },
      "source": [
        "print(\"eigenvalue\", A @ z/ 2572.568913324764)\n",
        "\n",
        "print((A @ z) [0] / z[0])\n",
        "print((A @ z) [1] / z[1])\n",
        "\n",
        "print(z)\n",
        "\n",
        "w = [-z[1], z[0]]\n",
        "\n",
        "print(w)\n",
        "\n",
        "for i in range(m):\n",
        "    print(np.dot(np.array([x[i], y[i]]), z), np.dot(np.array([x[i], y[i]]), w))\n"
      ],
      "execution_count": null,
      "outputs": [
        {
          "output_type": "stream",
          "text": [
            "eigenvalue [0.03835204 0.99926429]\n",
            "2572.568913324764\n",
            "2572.568913324764\n",
            "[0.03835204 0.99926429]\n",
            "[-0.9992642897510048, 0.03835204334086867]\n",
            "0.9992642897510048 0.03835204334086867\n",
            "2.036880622842878 -0.9225602030692674\n",
            "3.0361449125938833 -0.8842081597283988\n",
            "15.065668432946808 -1.4232479293889795\n",
            "15.065668432946808 -1.4232479293889795\n",
            "33.09077769180577 -1.7321754390043484\n",
            "75.1365819480297 -2.119918198189874\n",
            "146.12269856369193 -0.39618741073920294\n"
          ],
          "name": "stdout"
        }
      ]
    },
    {
      "cell_type": "code",
      "metadata": {
        "colab": {
          "base_uri": "https://localhost:8080/"
        },
        "id": "NVGTTi9Ln2e-",
        "outputId": "1c5b26c3-1d08-41e6-e166-aeb32102f55d"
      },
      "source": [
        "print((A @ w)/0.502515246664499)\n",
        "print((A @ w) [0] / w[0])\n",
        "print((A @ w) [1] / w[1])"
      ],
      "execution_count": null,
      "outputs": [
        {
          "output_type": "stream",
          "text": [
            "[-0.99926429  0.03835204]\n",
            "0.502515246664499\n",
            "0.5025152466645454\n"
          ],
          "name": "stdout"
        }
      ]
    },
    {
      "cell_type": "code",
      "metadata": {
        "colab": {
          "base_uri": "https://localhost:8080/"
        },
        "id": "5jzlsvrCJoQ4",
        "outputId": "82567081-b95c-42fa-8c3f-53699a14d7cd"
      },
      "source": [
        "import numpy as np\n",
        "\n",
        "x = np.array([0, 1, 1, 2, 2, 3, 5, 6])\n",
        "y = np.array([1, 2, 3, 15, 15, 33,  75, 146])\n",
        "\n",
        "m = len(x)\n",
        "A = np.cov(x, y, bias=True)\n",
        "print(A)\n",
        "u = np.array([1,0])\n",
        "\n",
        "for k in range(10):\n",
        "    z = u/np.linalg.norm(u)\n",
        "    u = A @ z\n",
        "    l = np.dot(z, u)\n",
        "    print(k, z, u, l)\n",
        "    if np.linalg.norm(u - l * z) <= 10**-15:\n",
        "        print(k, z, u, l)\n",
        "        break\n",
        "print(z, u, l)\n",
        "\n",
        "print(\"eigen vector\", A @ z/ l)\n",
        "\n",
        "print((A @ z) [0] / z[0])\n",
        "print((A @ z) [1] / z[1])\n",
        "\n",
        "print(z)\n",
        "\n",
        "w = [-z[1], z[0]]\n",
        "\n",
        "print((A @ w) [0] / w[0])\n",
        "print((A @ w) [1] / w[1])\n",
        "\n",
        "print(w)\n",
        "\n",
        "for i in range(m):\n",
        "    print(np.dot(np.array([x[i], y[i]]), z), np.dot(np.array([x[i], y[i]]), w))\n"
      ],
      "execution_count": null,
      "outputs": [
        {
          "output_type": "stream",
          "text": [
            "[[   3.75     86.25  ]\n",
            " [  86.25   2247.6875]]\n",
            "0 [1. 0.] [ 3.75 86.25] 3.75\n",
            "1 [0.04343722 0.99905616] [  86.33148325 2249.31249953] 2250.939504716982\n",
            "2 [0.03835304 0.99926425] [  86.33036559 2249.34171699] 2250.997799156944\n",
            "3 [0.03835204 0.99926429] [  86.33036515 2249.34171701] 2250.9977991591686\n",
            "4 [0.03835204 0.99926429] [  86.33036515 2249.34171701] 2250.997799159168\n",
            "5 [0.03835204 0.99926429] [  86.33036515 2249.34171701] 2250.997799159168\n",
            "6 [0.03835204 0.99926429] [  86.33036515 2249.34171701] 2250.997799159168\n",
            "7 [0.03835204 0.99926429] [  86.33036515 2249.34171701] 2250.997799159168\n",
            "8 [0.03835204 0.99926429] [  86.33036515 2249.34171701] 2250.997799159168\n",
            "9 [0.03835204 0.99926429] [  86.33036515 2249.34171701] 2250.997799159168\n",
            "[0.03835204 0.99926429] [  86.33036515 2249.34171701] 2250.997799159168\n",
            "eigen vector [0.03835204 0.99926429]\n",
            "2250.9977991591686\n",
            "2250.9977991591686\n",
            "[0.03835204 0.99926429]\n",
            "0.4397008408314365\n",
            "0.43970084083147726\n",
            "[-0.9992642897510048, 0.03835204334086867]\n",
            "0.9992642897510048 0.03835204334086867\n",
            "2.036880622842878 -0.9225602030692674\n",
            "3.0361449125938833 -0.8842081597283988\n",
            "15.065668432946808 -1.4232479293889795\n",
            "15.065668432946808 -1.4232479293889795\n",
            "33.09077769180577 -1.7321754390043484\n",
            "75.1365819480297 -2.119918198189874\n",
            "146.12269856369193 -0.39618741073920294\n"
          ],
          "name": "stdout"
        }
      ]
    },
    {
      "cell_type": "code",
      "metadata": {
        "colab": {
          "base_uri": "https://localhost:8080/"
        },
        "id": "8JtZx12EPmhm",
        "outputId": "daddaf37-05cb-41e5-a9db-ecb224e0162e"
      },
      "source": [
        "(m/(m-1)) * 2250.9977991591686"
      ],
      "execution_count": null,
      "outputs": [
        {
          "output_type": "execute_result",
          "data": {
            "text/plain": [
              "2572.568913324764"
            ]
          },
          "metadata": {
            "tags": []
          },
          "execution_count": 3
        }
      ]
    },
    {
      "cell_type": "code",
      "metadata": {
        "colab": {
          "base_uri": "https://localhost:8080/"
        },
        "id": "SS0lK6uXP9Qk",
        "outputId": "f0acd3b0-2e4b-4b24-dfee-608932307b52"
      },
      "source": [
        "(m/(m-1)) * 0.4397008408314365 #0.502515246664499"
      ],
      "execution_count": null,
      "outputs": [
        {
          "output_type": "execute_result",
          "data": {
            "text/plain": [
              "0.5025152466644989"
            ]
          },
          "metadata": {
            "tags": []
          },
          "execution_count": 5
        }
      ]
    },
    {
      "cell_type": "code",
      "metadata": {
        "id": "8n8_x1h14RsF"
      },
      "source": [],
      "execution_count": null,
      "outputs": []
    }
  ]
}